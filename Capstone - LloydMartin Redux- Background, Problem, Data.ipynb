{
 "cells": [
  {
   "cell_type": "markdown",
   "metadata": {},
   "source": [
    "# Capstone Project - The Battle of the Neighborhoods\n",
    "\n",
    "## \"LloydMartin Redux - Illinois Edition\""
   ]
  },
  {
   "cell_type": "markdown",
   "metadata": {},
   "source": [
    "## The Problem & Background\n",
    "\n",
    "### LloydMartin was a restaurant in Seattle, Washington.  \n",
    "\n",
    "It was \"a small 34 seat restaurant whom offers a globally-inspired cuisine in which our menu changes daily based on seasonal ingredients. We reach out to the farms that produce the highest quality product based on seasonal availability. Some ingredients we love to serve are foie gras, Wagyu and Prime beef, ramps, truffles, risotto, housemade pastas, dayboat fish, and mushrooms!\"\n",
    "\n",
    "### LloydMartin was situated in Seattle's Queen Anne Neighborhood\n",
    "\n",
    "LloydMartin restaurant was located at 1525 Queen Anne Ave N, Seattle, WA 98109 USA.  From Wikipedia: \"Queen Anne Hill is an affluent neighborhood and geographic feature in Seattle, northwest of downtown.\"\n",
    "\n",
    "### Chef Sam moved back to Illinois\n",
    "\n",
    "Chef Sam left Seattle and moved back to Illinois in the last year, naturally, his friends and family are enquiring about his next restaurant.  \n",
    "\n",
    "### Can Chef Sam replicate the success of LloydMartin by finding a similar location as LloydMartin?\n",
    "\n",
    "This project will aim to seek a new restaurant location, based on available restaurant properties near Naperville, Illinois, USA.  The goal will be to find which rental properties would be similar to the LloydMartin's Queen Anne location."
   ]
  },
  {
   "cell_type": "markdown",
   "metadata": {},
   "source": [
    "## Description of the Data\n",
    "\n",
    "This project will leverage Foursquare location data to understand Seattle's Queen Anne neighborhood, specifically the area nearest to the former location of LloydMartin restaurant (1525 Queen Anne Ave N, Seattle, WA 98109).\n",
    "\n",
    "The project will also use Foursquare location data to explore and understand the neighborhoods around restaurant properties that are currently available near and around Naperville, Illinois, USA (near Chicago, IL).  48 rental properites are under consideration. The rental properties under consideration are listed in a CSV file, with the following columns \"Address\", \"Price\", and \"Area_Sq_Ft\".\n",
    "\n",
    "Similar to our evaluation of neighborhoods in Manhattan and Toronto, we will cluster the available rental properties, as well as the LloydMartin location, based on the types of nearby venues from the Foursquare server.  We will look to identify a handful of rental properties to recommend to Chef Sam for a new Illinois restaurant that are in the same neighborhood cluster as LloydMartin's Queen Anne neighborhood."
   ]
  },
  {
   "cell_type": "code",
   "execution_count": null,
   "metadata": {},
   "outputs": [],
   "source": []
  }
 ],
 "metadata": {
  "kernelspec": {
   "display_name": "Python 3",
   "language": "python",
   "name": "python3"
  },
  "language_info": {
   "codemirror_mode": {
    "name": "ipython",
    "version": 3
   },
   "file_extension": ".py",
   "mimetype": "text/x-python",
   "name": "python",
   "nbconvert_exporter": "python",
   "pygments_lexer": "ipython3",
   "version": "3.7.6"
  }
 },
 "nbformat": 4,
 "nbformat_minor": 4
}
